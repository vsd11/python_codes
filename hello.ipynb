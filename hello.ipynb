{
 "cells": [
  {
   "cell_type": "code",
   "execution_count": null,
   "id": "51832470",
   "metadata": {},
   "outputs": [],
   "source": [
    "#\"hello captain aviral\""
   ]
  },
  {
   "cell_type": "code",
   "execution_count": 4,
   "id": "2018e6f5",
   "metadata": {},
   "outputs": [
    {
     "name": "stdout",
     "output_type": "stream",
     "text": [
      "hello captain aviral\n"
     ]
    }
   ],
   "source": [
    "print('hello captain aviral')"
   ]
  },
  {
   "cell_type": "code",
   "execution_count": null,
   "id": "33d4eb62",
   "metadata": {},
   "outputs": [],
   "source": []
  }
 ],
 "metadata": {
  "kernelspec": {
   "display_name": "Python 3 (ipykernel)",
   "language": "python",
   "name": "python3"
  },
  "language_info": {
   "codemirror_mode": {
    "name": "ipython",
    "version": 3
   },
   "file_extension": ".py",
   "mimetype": "text/x-python",
   "name": "python",
   "nbconvert_exporter": "python",
   "pygments_lexer": "ipython3",
   "version": "3.9.12"
  }
 },
 "nbformat": 4,
 "nbformat_minor": 5
}
